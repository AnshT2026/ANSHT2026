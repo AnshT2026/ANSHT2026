{
  "nbformat": 4,
  "nbformat_minor": 0,
  "metadata": {
    "colab": {
      "provenance": [],
      "authorship_tag": "ABX9TyOPgjtu4jyIvCoulHCYj1Ro",
      "include_colab_link": true
    },
    "kernelspec": {
      "name": "python3",
      "display_name": "Python 3"
    },
    "language_info": {
      "name": "python"
    }
  },
  "cells": [
    {
      "cell_type": "markdown",
      "metadata": {
        "id": "view-in-github",
        "colab_type": "text"
      },
      "source": [
        "<a href=\"https://colab.research.google.com/github/AnshT2026/ANSHT2026/blob/main/Newsimportance.ipynb\" target=\"_parent\"><img src=\"https://colab.research.google.com/assets/colab-badge.svg\" alt=\"Open In Colab\"/></a>"
      ]
    },
    {
      "cell_type": "markdown",
      "source": [
        "Dataset Reading"
      ],
      "metadata": {
        "id": "W5czIu3M_sUj"
      }
    },
    {
      "cell_type": "code",
      "source": [
        "import pandas as pd\n",
        "import json\n",
        "import numpy as np"
      ],
      "metadata": {
        "id": "w56K2AwsWVw4"
      },
      "execution_count": 1,
      "outputs": []
    },
    {
      "cell_type": "code",
      "source": [
        "!ls"
      ],
      "metadata": {
        "id": "JdCBp_NTcWWt",
        "colab": {
          "base_uri": "https://localhost:8080/"
        },
        "outputId": "3e5ce0c8-3865-4dae-f2e1-6d07b8406ddf"
      },
      "execution_count": 2,
      "outputs": [
        {
          "output_type": "stream",
          "name": "stdout",
          "text": [
            "sample_data\n"
          ]
        }
      ]
    },
    {
      "cell_type": "code",
      "source": [
        "# Loading json Data into Dataframe using Panda's\n",
        "with open(\"News_Category_Dataset_v3.json\") as f:\n",
        "  file = f.readlines()\n",
        "data = [eval(c) for c in file]\n",
        "df = pd.DataFrame(data)\n",
        "df.head"
      ],
      "metadata": {
        "id": "_jhuGOi-gAGx"
      },
      "execution_count": null,
      "outputs": []
    },
    {
      "cell_type": "code",
      "source": [
        "#Dropping useless columns of the data\n",
        "new_df = df.drop([\"authors\", \"date\", \"link\"], axis=1)\n",
        "print(new_df.head)"
      ],
      "metadata": {
        "id": "5IUgPpCuEDWH"
      },
      "execution_count": null,
      "outputs": []
    },
    {
      "cell_type": "code",
      "source": [
        "#Creating Batch Size for optimisation\n",
        "batch_size = 5000\n",
        "\n",
        "def BatchSize(data, batch_size):\n",
        "    num_samples = len(data)\n",
        "    num_batches = int(np.ceil(num_samples / batch_size))\n",
        "\n",
        "    batches = []\n",
        "    for i in range(num_batches):\n",
        "        start_index = i * batch_size\n",
        "        end_index = min((i + 1) * batch_size, num_samples)\n",
        "        batch = data[start_index:end_index]\n",
        "        batches.append(batch)\n",
        "    return batches"
      ],
      "metadata": {
        "id": "edlqG_jFYEyy"
      },
      "execution_count": 8,
      "outputs": []
    },
    {
      "cell_type": "code",
      "source": [
        "def process_batch(batch):\n",
        "\n",
        "  for batch in batches:\n",
        "    tokenized_dataset(batch)"
      ],
      "metadata": {
        "id": "8stYvdXZjtuo"
      },
      "execution_count": 9,
      "outputs": []
    },
    {
      "cell_type": "code",
      "source": [
        "print(BatchSize(df.headline,batch_size))"
      ],
      "metadata": {
        "id": "5WMrstmAgtE5"
      },
      "execution_count": null,
      "outputs": []
    },
    {
      "cell_type": "markdown",
      "source": [
        "Pre-Processing"
      ],
      "metadata": {
        "id": "zZvrN7Sz_nUg"
      }
    },
    {
      "cell_type": "code",
      "source": [
        "!pip install nltk"
      ],
      "metadata": {
        "id": "wIeuBgVYk2bZ"
      },
      "execution_count": null,
      "outputs": []
    },
    {
      "cell_type": "code",
      "source": [
        "import nltk\n",
        "nltk.download('punkt')\n",
        "nltk.download('stopwords')\n",
        "nltk.download('wordnet')\n",
        "from nltk.stem import PorterStemmer\n",
        "from nltk.tokenize import word_tokenize\n",
        "from nltk.stem import WordNetLemmatizer\n",
        "from nltk.corpus import stopwords\n",
        "from nltk.tokenize import sent_tokenize"
      ],
      "metadata": {
        "id": "bnt9lt9gkhMM"
      },
      "execution_count": null,
      "outputs": []
    },
    {
      "cell_type": "code",
      "source": [
        "#Removal of stop words\n",
        "def filtered_text(new_df):\n",
        "    stop_words = set(stopwords.words('english'))\n",
        "    new_df['filtered_text'] = ''\n",
        "    for index, row in new_df.iterrows():\n",
        "        text = ' '.join([str(row['headline']), str(row['short_description']), str(row['category'])])\n",
        "        stop_tokens = word_tokenize(text)\n",
        "        filtered_tokens = [word for word in stop_tokens if word.lower() not in stop_words]\n",
        "        filtered_text = ' '.join(filtered_tokens)\n",
        "        new_df.at[index, 'filtered_text'] = filtered_text\n",
        "    return new_df\n",
        "\n",
        "Stoppedwords = filtered_text(new_df)"
      ],
      "metadata": {
        "id": "Mul7QthlhknJ"
      },
      "execution_count": 14,
      "outputs": []
    },
    {
      "cell_type": "code",
      "source": [
        "#Function to Tokenize the dataset\n",
        "def tokenize_dataset(Stoppedwords):\n",
        "    tokenized_dataset = []\n",
        "    for text in Stoppedwords:\n",
        "        tokens = nltk.word_tokenize(text)\n",
        "        tokenized_dataset.append(tokens)\n",
        "    return tokenized_dataset\n",
        "\n",
        "tokenizeddata = tokenize_dataset(Stoppedwords)"
      ],
      "metadata": {
        "id": "a9pV_SfeFLrr"
      },
      "execution_count": 16,
      "outputs": []
    },
    {
      "cell_type": "code",
      "source": [
        "#Stemming of the Dataset\n",
        "ps = PorterStemmer()\n",
        "def stemming(Stoppedwords):\n",
        "  stemmed_data = []\n",
        "  for column in Stoppedwords:\n",
        "    for word in Stoppedwords[column]:\n",
        "      stemmed_word = ps.stem(word)\n",
        "\n",
        ""
      ],
      "metadata": {
        "id": "uvrAujV_WbOH"
      },
      "execution_count": null,
      "outputs": []
    },
    {
      "cell_type": "code",
      "source": [
        "#Function to Lemmitze the dataset\n",
        "lemmatizer = WordNetLemmatizer()\n",
        "\n",
        "def Lemmatizeddata(Stemmeddata):\n",
        "  new_df['lemmatized_text'] = ''\n",
        "  new_df['lemmatized_short_description'] = new_df['short_description'].apply(lambda x: ' '.join([lemmatizer.lemmatize(word) for word in x.split()]))\n",
        "  new_df['lemmatized_category'] = new_df['category'].apply(lambda x: ' '.join([lemmatizer.lemmatize(word) for word in x.split()]))\n",
        "  new_df['lemmatized_headline'] = new_df['headline'].apply(lambda x: ' '.join([lemmatizer.lemmatize(word) for word in x.split()]))\n",
        "  return Lemmatizeddata"
      ],
      "metadata": {
        "id": "YLL5Zp9lPM8I"
      },
      "execution_count": null,
      "outputs": []
    },
    {
      "cell_type": "code",
      "source": [
        "#Segmentation of the dataset\n",
        "def perform_segmentation(Stemmeddata):\n",
        "    segmented_sentences = []\n",
        "\n",
        "    for text in Stemmeddata:\n",
        "      sentences = nltk.sent_tokenize(text)\n",
        "      segmented_sentences.extend(sentences)\n",
        "\n",
        "    return segmented_sentences\n",
        "Processed_Df = perform_segmentation(Stemmeddata)"
      ],
      "metadata": {
        "id": "s-eSm9tJylFE"
      },
      "execution_count": 5,
      "outputs": []
    },
    {
      "cell_type": "code",
      "source": [
        "def run_data:\n",
        ""
      ],
      "metadata": {
        "id": "Dzjn74wBg_pB"
      },
      "execution_count": null,
      "outputs": []
    }
  ]
}